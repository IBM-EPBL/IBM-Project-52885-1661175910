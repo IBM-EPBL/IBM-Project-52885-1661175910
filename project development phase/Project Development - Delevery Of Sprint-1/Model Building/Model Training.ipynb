{
 "cells": [
  {
   "cell_type": "markdown",
   "metadata": {},
   "source": [
    "# Gesture Based Tool for Sterile Browsing of Radiology Images"
   ]
  },
  {
   "cell_type": "markdown",
   "metadata": {},
   "source": [
    "# Model Building"
   ]
  },
  {
   "cell_type": "markdown",
   "metadata": {},
   "source": [
    "### Importing libraries"
   ]
  },
  {
   "cell_type": "code",
   "execution_count": 1,
   "metadata": {},
   "outputs": [],
   "source": [
    "# This library helps add support for large, multi-dimensional arrays and matrices\n",
    "import numpy as np\n",
    "#open source used for both ML and DL for computation\n",
    "import tensorflow as tf\n",
    "#it is a plain stack of layers\n",
    "from tensorflow.keras.models import Sequential \n",
    "#Dense layer is the regular deeply connected neural network layer\n",
    "from tensorflow.keras.layers import Dense,Flatten, Dropout\n",
    "#Faltten-used fot flattening the input or change the dimension, MaxPooling2D-for downsampling the image for Convolutional layer\n",
    "from tensorflow.keras.layers import Convolution2D,MaxPooling2D \n",
    "#Its used for different augmentation of the image \n",
    "from tensorflow.keras.preprocessing.image import ImageDataGenerator"
   ]
  },
  {
   "cell_type": "markdown",
   "metadata": {},
   "source": [
    "### Augmenting the data "
   ]
  },
  {
   "cell_type": "code",
   "execution_count": 2,
   "metadata": {},
   "outputs": [],
   "source": [
    "#setting parameter for Image Data agumentation to the traing data\n",
    "train_datagen = ImageDataGenerator(rescale=1./255,\n",
    "                                   shear_range=0.2,\n",
    "                                   zoom_range=0.2,\n",
    "                                   horizontal_flip=True)\n",
    "#Image Data agumentation to the testing data\n",
    "test_datagen=ImageDataGenerator(rescale=1./255)"
   ]
  },
  {
   "cell_type": "markdown",
   "metadata": {},
   "source": [
    "### Loading our data and performing data agumentation"
   ]
  },
  {
   "cell_type": "code",
   "execution_count": 4,
   "metadata": {},
   "outputs": [
    {
     "name": "stdout",
     "output_type": "stream",
     "text": [
      "Found 594 images belonging to 6 classes.\n",
      "Found 30 images belonging to 6 classes.\n"
     ]
    }
   ],
   "source": [
    "#performing data agumentation to train data\n",
    "x_train = train_datagen.flow_from_directory(r'D:\\Python\\gesture based control of raidiology images\\Dataset\\train',\n",
    "                                            target_size=(64, 64),\n",
    "                                            batch_size=3,\n",
    "                                            color_mode='grayscale',\n",
    "                                            class_mode='categorical')\n",
    "#performing data agumentation to test data\n",
    "x_test = test_datagen.flow_from_directory(r'D:\\Python\\gesture based control of raidiology images\\Dataset\\test',\n",
    "                                          target_size=(64, 64),\n",
    "                                          batch_size=3,\n",
    "                                          color_mode='grayscale',\n",
    "                                          class_mode='categorical') "
   ]
  },
  {
   "cell_type": "code",
   "execution_count": 5,
   "metadata": {},
   "outputs": [
    {
     "name": "stdout",
     "output_type": "stream",
     "text": [
      "{'0': 0, '1': 1, '2': 2, '3': 3, '4': 4, '5': 5}\n"
     ]
    }
   ],
   "source": [
    "print(x_train.class_indices)#checking the number of classes"
   ]
  },
  {
   "cell_type": "markdown",
   "metadata": {},
   "source": [
    "### Model Creation"
   ]
  },
  {
   "cell_type": "code",
   "execution_count": 6,
   "metadata": {},
   "outputs": [],
   "source": [
    "# Initializing the CNN\n",
    "model = Sequential()"
   ]
  },
  {
   "cell_type": "code",
   "execution_count": 7,
   "metadata": {},
   "outputs": [],
   "source": [
    "# First convolution layer and pooling\n",
    "model.add(Convolution2D(32, (3, 3), input_shape=(64, 64, 1), activation='relu'))\n",
    "model.add(MaxPooling2D(pool_size=(2, 2)))"
   ]
  },
  {
   "cell_type": "code",
   "execution_count": 8,
   "metadata": {},
   "outputs": [],
   "source": [
    "# Second convolution layer and pooling\n",
    "model.add(Convolution2D(32, (3, 3), activation='relu'))\n",
    "# input_shape is going to be the pooled feature maps from the previous convolution layer\n",
    "model.add(MaxPooling2D(pool_size=(2,2)))"
   ]
  },
  {
   "cell_type": "code",
   "execution_count": 9,
   "metadata": {},
   "outputs": [],
   "source": [
    "# Flattening the layers i.e. input layer\n",
    "model.add(Flatten())"
   ]
  },
  {
   "cell_type": "code",
   "execution_count": 10,
   "metadata": {},
   "outputs": [],
   "source": [
    "# Adding a fully connected layer, i.e. Hidden Layer\n",
    "model.add(Dense(units=512 , activation='relu'))"
   ]
  },
  {
   "cell_type": "code",
   "execution_count": 11,
   "metadata": {},
   "outputs": [],
   "source": [
    "# softmax for categorical analysis, Output Layer\n",
    "model.add(Dense(units=6, activation='softmax')) "
   ]
  },
  {
   "cell_type": "code",
   "execution_count": 12,
   "metadata": {},
   "outputs": [
    {
     "name": "stdout",
     "output_type": "stream",
     "text": [
      "Model: \"sequential\"\n",
      "_________________________________________________________________\n",
      " Layer (type)                Output Shape              Param #   \n",
      "=================================================================\n",
      " conv2d (Conv2D)             (None, 62, 62, 32)        320       \n",
      "                                                                 \n",
      " max_pooling2d (MaxPooling2D  (None, 31, 31, 32)       0         \n",
      " )                                                               \n",
      "                                                                 \n",
      " conv2d_1 (Conv2D)           (None, 29, 29, 32)        9248      \n",
      "                                                                 \n",
      " max_pooling2d_1 (MaxPooling  (None, 14, 14, 32)       0         \n",
      " 2D)                                                             \n",
      "                                                                 \n",
      " flatten (Flatten)           (None, 6272)              0         \n",
      "                                                                 \n",
      " dense (Dense)               (None, 512)               3211776   \n",
      "                                                                 \n",
      " dense_1 (Dense)             (None, 6)                 3078      \n",
      "                                                                 \n",
      "=================================================================\n",
      "Total params: 3,224,422\n",
      "Trainable params: 3,224,422\n",
      "Non-trainable params: 0\n",
      "_________________________________________________________________\n"
     ]
    }
   ],
   "source": [
    "model.summary()#summary of our model"
   ]
  },
  {
   "cell_type": "markdown",
   "metadata": {},
   "source": [
    "### Model Compilation"
   ]
  },
  {
   "cell_type": "code",
   "execution_count": 13,
   "metadata": {},
   "outputs": [],
   "source": [
    "# Compiling the CNN\n",
    "# categorical_crossentropy for more than 2\n",
    "model.compile(optimizer='adam', loss='categorical_crossentropy', metrics=['accuracy']) "
   ]
  },
  {
   "cell_type": "markdown",
   "metadata": {},
   "source": [
    "## Model fitting"
   ]
  },
  {
   "cell_type": "code",
   "execution_count": 14,
   "metadata": {},
   "outputs": [
    {
     "name": "stderr",
     "output_type": "stream",
     "text": [
      "C:\\Users\\19tuc\\AppData\\Local\\Temp\\ipykernel_7708\\804983804.py:2: UserWarning: `Model.fit_generator` is deprecated and will be removed in a future version. Please use `Model.fit`, which supports generators.\n",
      "  model.fit_generator(x_train,\n"
     ]
    },
    {
     "name": "stdout",
     "output_type": "stream",
     "text": [
      "Epoch 1/25\n",
      "198/198 [==============================] - 5s 25ms/step - loss: 1.3431 - accuracy: 0.4747 - val_loss: 0.9072 - val_accuracy: 0.6000\n",
      "Epoch 2/25\n",
      "198/198 [==============================] - 3s 14ms/step - loss: 0.5845 - accuracy: 0.7559 - val_loss: 0.4176 - val_accuracy: 0.8667\n",
      "Epoch 3/25\n",
      "198/198 [==============================] - 3s 14ms/step - loss: 0.3831 - accuracy: 0.8653 - val_loss: 0.3371 - val_accuracy: 0.9667\n",
      "Epoch 4/25\n",
      "198/198 [==============================] - 3s 17ms/step - loss: 0.2475 - accuracy: 0.9074 - val_loss: 0.3231 - val_accuracy: 0.9667\n",
      "Epoch 5/25\n",
      "198/198 [==============================] - 3s 16ms/step - loss: 0.1999 - accuracy: 0.9209 - val_loss: 0.2663 - val_accuracy: 0.9333\n",
      "Epoch 6/25\n",
      "198/198 [==============================] - 3s 17ms/step - loss: 0.1890 - accuracy: 0.9360 - val_loss: 0.1827 - val_accuracy: 0.9667\n",
      "Epoch 7/25\n",
      "198/198 [==============================] - 3s 17ms/step - loss: 0.0823 - accuracy: 0.9714 - val_loss: 0.2857 - val_accuracy: 0.9333\n",
      "Epoch 8/25\n",
      "198/198 [==============================] - 3s 17ms/step - loss: 0.1436 - accuracy: 0.9478 - val_loss: 0.3471 - val_accuracy: 0.8333\n",
      "Epoch 9/25\n",
      "198/198 [==============================] - 3s 16ms/step - loss: 0.0946 - accuracy: 0.9680 - val_loss: 0.2731 - val_accuracy: 0.9667\n",
      "Epoch 10/25\n",
      "198/198 [==============================] - 3s 17ms/step - loss: 0.0382 - accuracy: 0.9899 - val_loss: 0.3452 - val_accuracy: 0.9667\n",
      "Epoch 11/25\n",
      "198/198 [==============================] - 3s 17ms/step - loss: 0.0637 - accuracy: 0.9798 - val_loss: 0.4976 - val_accuracy: 0.9333\n",
      "Epoch 12/25\n",
      "198/198 [==============================] - 3s 16ms/step - loss: 0.0942 - accuracy: 0.9747 - val_loss: 0.5079 - val_accuracy: 0.8667\n",
      "Epoch 13/25\n",
      "198/198 [==============================] - 3s 16ms/step - loss: 0.0342 - accuracy: 0.9899 - val_loss: 0.3055 - val_accuracy: 0.9667\n",
      "Epoch 14/25\n",
      "198/198 [==============================] - 3s 16ms/step - loss: 0.0449 - accuracy: 0.9899 - val_loss: 0.5102 - val_accuracy: 0.9000\n",
      "Epoch 15/25\n",
      "198/198 [==============================] - 3s 16ms/step - loss: 0.0185 - accuracy: 0.9966 - val_loss: 0.4438 - val_accuracy: 0.9667\n",
      "Epoch 16/25\n",
      "198/198 [==============================] - 3s 16ms/step - loss: 0.0381 - accuracy: 0.9848 - val_loss: 0.2778 - val_accuracy: 0.9667\n",
      "Epoch 17/25\n",
      "198/198 [==============================] - 3s 17ms/step - loss: 0.0211 - accuracy: 0.9949 - val_loss: 0.4057 - val_accuracy: 0.9667\n",
      "Epoch 18/25\n",
      "198/198 [==============================] - 3s 17ms/step - loss: 0.0934 - accuracy: 0.9764 - val_loss: 0.4803 - val_accuracy: 0.9667\n",
      "Epoch 19/25\n",
      "198/198 [==============================] - 3s 17ms/step - loss: 0.0639 - accuracy: 0.9781 - val_loss: 0.3702 - val_accuracy: 0.9667\n",
      "Epoch 20/25\n",
      "198/198 [==============================] - 3s 17ms/step - loss: 0.0524 - accuracy: 0.9798 - val_loss: 0.4809 - val_accuracy: 0.8667\n",
      "Epoch 21/25\n",
      "198/198 [==============================] - 3s 16ms/step - loss: 0.0383 - accuracy: 0.9933 - val_loss: 0.2643 - val_accuracy: 0.9667\n",
      "Epoch 22/25\n",
      "198/198 [==============================] - 3s 17ms/step - loss: 0.0458 - accuracy: 0.9933 - val_loss: 0.3625 - val_accuracy: 0.9667\n",
      "Epoch 23/25\n",
      "198/198 [==============================] - 3s 16ms/step - loss: 0.0279 - accuracy: 0.9916 - val_loss: 0.4270 - val_accuracy: 0.9333\n",
      "Epoch 24/25\n",
      "198/198 [==============================] - 3s 16ms/step - loss: 0.0228 - accuracy: 0.9916 - val_loss: 0.2855 - val_accuracy: 0.9667\n",
      "Epoch 25/25\n",
      "198/198 [==============================] - 3s 16ms/step - loss: 0.0252 - accuracy: 0.9916 - val_loss: 0.5182 - val_accuracy: 0.9667\n"
     ]
    },
    {
     "data": {
      "text/plain": [
       "<keras.callbacks.History at 0x19a18259ee0>"
      ]
     },
     "execution_count": 14,
     "metadata": {},
     "output_type": "execute_result"
    }
   ],
   "source": [
    "# It will generate packets of train and test data for training\n",
    "model.fit_generator(x_train,\n",
    "                    steps_per_epoch = 594/3 , \n",
    "                    epochs = 25, \n",
    "                    validation_data = x_test,\n",
    "                    validation_steps = 30/3 )"
   ]
  },
  {
   "cell_type": "markdown",
   "metadata": {},
   "source": [
    "### Saving model"
   ]
  },
  {
   "cell_type": "code",
   "execution_count": 15,
   "metadata": {},
   "outputs": [],
   "source": [
    "# Save the model\n",
    "model.save('Tested_gesture.h5')"
   ]
  },
  {
   "cell_type": "code",
   "execution_count": 16,
   "metadata": {},
   "outputs": [],
   "source": [
    "model_json = model.to_json()\n",
    "with open(\"model-bw.json\", \"w\") as json_file:\n",
    "    json_file.write(model_json)"
   ]
  }
 ],
 "metadata": {
  "kernelspec": {
   "display_name": "Python 3.8.0 64-bit",
   "language": "python",
   "name": "python3"
  },
  "language_info": {
   "codemirror_mode": {
    "name": "ipython",
    "version": 3
   },
   "file_extension": ".py",
   "mimetype": "text/x-python",
   "name": "python",
   "nbconvert_exporter": "python",
   "pygments_lexer": "ipython3",
   "version": "3.8.0"
  },
  "vscode": {
   "interpreter": {
    "hash": "f309c6a45d954e3d9d0810674a7d2a8dee9c3f3c2364533f24d7a5e98a7a134d"
   }
  }
 },
 "nbformat": 4,
 "nbformat_minor": 4
}
